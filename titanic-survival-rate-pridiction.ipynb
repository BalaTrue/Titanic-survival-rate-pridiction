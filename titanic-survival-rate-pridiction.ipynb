{
 "cells": [
  {
   "cell_type": "code",
   "execution_count": 1,
   "id": "polar-plain",
   "metadata": {
    "_cell_guid": "b1076dfc-b9ad-4769-8c92-a6c4dae69d19",
    "_uuid": "8f2839f25d086af736a60e9eeb907d3b93b6e0e5",
    "execution": {
     "iopub.execute_input": "2021-06-28T16:19:07.001880Z",
     "iopub.status.busy": "2021-06-28T16:19:07.000644Z",
     "iopub.status.idle": "2021-06-28T16:19:07.012401Z",
     "shell.execute_reply": "2021-06-28T16:19:07.013117Z",
     "shell.execute_reply.started": "2021-06-28T11:53:55.425807Z"
    },
    "papermill": {
     "duration": 0.041354,
     "end_time": "2021-06-28T16:19:07.013448",
     "exception": false,
     "start_time": "2021-06-28T16:19:06.972094",
     "status": "completed"
    },
    "tags": []
   },
   "outputs": [
    {
     "name": "stdout",
     "output_type": "stream",
     "text": [
      "/kaggle/input/titanic/train.csv\n",
      "/kaggle/input/titanic/test.csv\n",
      "/kaggle/input/titanic/gender_submission.csv\n"
     ]
    }
   ],
   "source": [
    "# This Python 3 environment comes with many helpful analytics libraries installed\n",
    "# It is defined by the kaggle/python Docker image: https://github.com/kaggle/docker-python\n",
    "# For example, here's several helpful packages to load\n",
    "\n",
    "import numpy as np # linear algebra\n",
    "import pandas as pd # data processing, CSV file I/O (e.g. pd.read_csv)\n",
    "\n",
    "# Input data files are available in the read-only \"../input/\" directory\n",
    "# For example, running this (by clicking run or pressing Shift+Enter) will list all files under the input directory\n",
    "\n",
    "import os\n",
    "for dirname, _, filenames in os.walk('/kaggle/input'):\n",
    "    for filename in filenames:\n",
    "        print(os.path.join(dirname, filename))\n",
    "\n",
    "# You can write up to 20GB to the current directory (/kaggle/working/) that gets preserved as output when you create a version using \"Save & Run All\" \n",
    "# You can also write temporary files to /kaggle/temp/, but they won't be saved outside of the current session"
   ]
  },
  {
   "cell_type": "code",
   "execution_count": 2,
   "id": "higher-shareware",
   "metadata": {
    "execution": {
     "iopub.execute_input": "2021-06-28T16:19:07.073662Z",
     "iopub.status.busy": "2021-06-28T16:19:07.072983Z",
     "iopub.status.idle": "2021-06-28T16:19:08.009791Z",
     "shell.execute_reply": "2021-06-28T16:19:08.010286Z",
     "shell.execute_reply.started": "2021-06-28T12:42:02.51967Z"
    },
    "papermill": {
     "duration": 0.968835,
     "end_time": "2021-06-28T16:19:08.010465",
     "exception": false,
     "start_time": "2021-06-28T16:19:07.041630",
     "status": "completed"
    },
    "tags": []
   },
   "outputs": [
    {
     "data": {
      "text/plain": [
       "<bound method NDFrame.head of      PassengerId  Survived  Pclass  \\\n",
       "0              1         0       3   \n",
       "1              2         1       1   \n",
       "2              3         1       3   \n",
       "3              4         1       1   \n",
       "4              5         0       3   \n",
       "..           ...       ...     ...   \n",
       "886          887         0       2   \n",
       "887          888         1       1   \n",
       "888          889         0       3   \n",
       "889          890         1       1   \n",
       "890          891         0       3   \n",
       "\n",
       "                                                  Name     Sex   Age  SibSp  \\\n",
       "0                              Braund, Mr. Owen Harris    male  22.0      1   \n",
       "1    Cumings, Mrs. John Bradley (Florence Briggs Th...  female  38.0      1   \n",
       "2                               Heikkinen, Miss. Laina  female  26.0      0   \n",
       "3         Futrelle, Mrs. Jacques Heath (Lily May Peel)  female  35.0      1   \n",
       "4                             Allen, Mr. William Henry    male  35.0      0   \n",
       "..                                                 ...     ...   ...    ...   \n",
       "886                              Montvila, Rev. Juozas    male  27.0      0   \n",
       "887                       Graham, Miss. Margaret Edith  female  19.0      0   \n",
       "888           Johnston, Miss. Catherine Helen \"Carrie\"  female   NaN      1   \n",
       "889                              Behr, Mr. Karl Howell    male  26.0      0   \n",
       "890                                Dooley, Mr. Patrick    male  32.0      0   \n",
       "\n",
       "     Parch            Ticket     Fare Cabin Embarked  \n",
       "0        0         A/5 21171   7.2500   NaN        S  \n",
       "1        0          PC 17599  71.2833   C85        C  \n",
       "2        0  STON/O2. 3101282   7.9250   NaN        S  \n",
       "3        0            113803  53.1000  C123        S  \n",
       "4        0            373450   8.0500   NaN        S  \n",
       "..     ...               ...      ...   ...      ...  \n",
       "886      0            211536  13.0000   NaN        S  \n",
       "887      0            112053  30.0000   B42        S  \n",
       "888      2        W./C. 6607  23.4500   NaN        S  \n",
       "889      0            111369  30.0000  C148        C  \n",
       "890      0            370376   7.7500   NaN        Q  \n",
       "\n",
       "[891 rows x 12 columns]>"
      ]
     },
     "execution_count": 2,
     "metadata": {},
     "output_type": "execute_result"
    }
   ],
   "source": [
    "import pandas as pd\n",
    "import matplotlib.pyplot as plt\n",
    "import seaborn as sns\n",
    "titanic_train= pd.read_csv(\"../input/titanic/train.csv\")\n",
    "titanic_test=pd.read_csv(\"../input/titanic/test.csv\")\n",
    "titanic_train.head"
   ]
  },
  {
   "cell_type": "code",
   "execution_count": 3,
   "id": "adequate-stevens",
   "metadata": {
    "execution": {
     "iopub.execute_input": "2021-06-28T16:19:08.062591Z",
     "iopub.status.busy": "2021-06-28T16:19:08.061956Z",
     "iopub.status.idle": "2021-06-28T16:19:08.080181Z",
     "shell.execute_reply": "2021-06-28T16:19:08.079596Z",
     "shell.execute_reply.started": "2021-06-28T11:29:12.961625Z"
    },
    "papermill": {
     "duration": 0.045153,
     "end_time": "2021-06-28T16:19:08.080320",
     "exception": false,
     "start_time": "2021-06-28T16:19:08.035167",
     "status": "completed"
    },
    "tags": []
   },
   "outputs": [
    {
     "data": {
      "text/html": [
       "<div>\n",
       "<style scoped>\n",
       "    .dataframe tbody tr th:only-of-type {\n",
       "        vertical-align: middle;\n",
       "    }\n",
       "\n",
       "    .dataframe tbody tr th {\n",
       "        vertical-align: top;\n",
       "    }\n",
       "\n",
       "    .dataframe thead th {\n",
       "        text-align: right;\n",
       "    }\n",
       "</style>\n",
       "<table border=\"1\" class=\"dataframe\">\n",
       "  <thead>\n",
       "    <tr style=\"text-align: right;\">\n",
       "      <th></th>\n",
       "      <th>PassengerId</th>\n",
       "      <th>Pclass</th>\n",
       "      <th>Name</th>\n",
       "      <th>Sex</th>\n",
       "      <th>Age</th>\n",
       "      <th>SibSp</th>\n",
       "      <th>Parch</th>\n",
       "      <th>Ticket</th>\n",
       "      <th>Fare</th>\n",
       "      <th>Cabin</th>\n",
       "      <th>Embarked</th>\n",
       "    </tr>\n",
       "  </thead>\n",
       "  <tbody>\n",
       "    <tr>\n",
       "      <th>0</th>\n",
       "      <td>892</td>\n",
       "      <td>3</td>\n",
       "      <td>Kelly, Mr. James</td>\n",
       "      <td>male</td>\n",
       "      <td>34.5</td>\n",
       "      <td>0</td>\n",
       "      <td>0</td>\n",
       "      <td>330911</td>\n",
       "      <td>7.8292</td>\n",
       "      <td>NaN</td>\n",
       "      <td>Q</td>\n",
       "    </tr>\n",
       "    <tr>\n",
       "      <th>1</th>\n",
       "      <td>893</td>\n",
       "      <td>3</td>\n",
       "      <td>Wilkes, Mrs. James (Ellen Needs)</td>\n",
       "      <td>female</td>\n",
       "      <td>47.0</td>\n",
       "      <td>1</td>\n",
       "      <td>0</td>\n",
       "      <td>363272</td>\n",
       "      <td>7.0000</td>\n",
       "      <td>NaN</td>\n",
       "      <td>S</td>\n",
       "    </tr>\n",
       "    <tr>\n",
       "      <th>2</th>\n",
       "      <td>894</td>\n",
       "      <td>2</td>\n",
       "      <td>Myles, Mr. Thomas Francis</td>\n",
       "      <td>male</td>\n",
       "      <td>62.0</td>\n",
       "      <td>0</td>\n",
       "      <td>0</td>\n",
       "      <td>240276</td>\n",
       "      <td>9.6875</td>\n",
       "      <td>NaN</td>\n",
       "      <td>Q</td>\n",
       "    </tr>\n",
       "    <tr>\n",
       "      <th>3</th>\n",
       "      <td>895</td>\n",
       "      <td>3</td>\n",
       "      <td>Wirz, Mr. Albert</td>\n",
       "      <td>male</td>\n",
       "      <td>27.0</td>\n",
       "      <td>0</td>\n",
       "      <td>0</td>\n",
       "      <td>315154</td>\n",
       "      <td>8.6625</td>\n",
       "      <td>NaN</td>\n",
       "      <td>S</td>\n",
       "    </tr>\n",
       "    <tr>\n",
       "      <th>4</th>\n",
       "      <td>896</td>\n",
       "      <td>3</td>\n",
       "      <td>Hirvonen, Mrs. Alexander (Helga E Lindqvist)</td>\n",
       "      <td>female</td>\n",
       "      <td>22.0</td>\n",
       "      <td>1</td>\n",
       "      <td>1</td>\n",
       "      <td>3101298</td>\n",
       "      <td>12.2875</td>\n",
       "      <td>NaN</td>\n",
       "      <td>S</td>\n",
       "    </tr>\n",
       "  </tbody>\n",
       "</table>\n",
       "</div>"
      ],
      "text/plain": [
       "   PassengerId  Pclass                                          Name     Sex  \\\n",
       "0          892       3                              Kelly, Mr. James    male   \n",
       "1          893       3              Wilkes, Mrs. James (Ellen Needs)  female   \n",
       "2          894       2                     Myles, Mr. Thomas Francis    male   \n",
       "3          895       3                              Wirz, Mr. Albert    male   \n",
       "4          896       3  Hirvonen, Mrs. Alexander (Helga E Lindqvist)  female   \n",
       "\n",
       "    Age  SibSp  Parch   Ticket     Fare Cabin Embarked  \n",
       "0  34.5      0      0   330911   7.8292   NaN        Q  \n",
       "1  47.0      1      0   363272   7.0000   NaN        S  \n",
       "2  62.0      0      0   240276   9.6875   NaN        Q  \n",
       "3  27.0      0      0   315154   8.6625   NaN        S  \n",
       "4  22.0      1      1  3101298  12.2875   NaN        S  "
      ]
     },
     "execution_count": 3,
     "metadata": {},
     "output_type": "execute_result"
    }
   ],
   "source": [
    "titanic_test.head()"
   ]
  },
  {
   "cell_type": "code",
   "execution_count": 4,
   "id": "organic-texas",
   "metadata": {
    "execution": {
     "iopub.execute_input": "2021-06-28T16:19:08.137405Z",
     "iopub.status.busy": "2021-06-28T16:19:08.136630Z",
     "iopub.status.idle": "2021-06-28T16:19:08.139942Z",
     "shell.execute_reply": "2021-06-28T16:19:08.140427Z",
     "shell.execute_reply.started": "2021-06-28T11:29:16.29757Z"
    },
    "papermill": {
     "duration": 0.03436,
     "end_time": "2021-06-28T16:19:08.140609",
     "exception": false,
     "start_time": "2021-06-28T16:19:08.106249",
     "status": "completed"
    },
    "tags": []
   },
   "outputs": [
    {
     "data": {
      "text/plain": [
       "(891, 12)"
      ]
     },
     "execution_count": 4,
     "metadata": {},
     "output_type": "execute_result"
    }
   ],
   "source": [
    "titanic_train.shape"
   ]
  },
  {
   "cell_type": "code",
   "execution_count": 5,
   "id": "narrative-alcohol",
   "metadata": {
    "execution": {
     "iopub.execute_input": "2021-06-28T16:19:08.201983Z",
     "iopub.status.busy": "2021-06-28T16:19:08.201057Z",
     "iopub.status.idle": "2021-06-28T16:19:08.205432Z",
     "shell.execute_reply": "2021-06-28T16:19:08.204929Z",
     "shell.execute_reply.started": "2021-06-28T11:29:19.510284Z"
    },
    "papermill": {
     "duration": 0.039822,
     "end_time": "2021-06-28T16:19:08.205577",
     "exception": false,
     "start_time": "2021-06-28T16:19:08.165755",
     "status": "completed"
    },
    "tags": []
   },
   "outputs": [
    {
     "data": {
      "text/plain": [
       "0    549\n",
       "1    342\n",
       "Name: Survived, dtype: int64"
      ]
     },
     "execution_count": 5,
     "metadata": {},
     "output_type": "execute_result"
    }
   ],
   "source": [
    "titanic_train['Survived'].value_counts()"
   ]
  },
  {
   "cell_type": "code",
   "execution_count": 6,
   "id": "animal-insurance",
   "metadata": {
    "execution": {
     "iopub.execute_input": "2021-06-28T16:19:08.280089Z",
     "iopub.status.busy": "2021-06-28T16:19:08.279405Z",
     "iopub.status.idle": "2021-06-28T16:19:08.430976Z",
     "shell.execute_reply": "2021-06-28T16:19:08.430392Z",
     "shell.execute_reply.started": "2021-06-28T11:29:22.790628Z"
    },
    "papermill": {
     "duration": 0.199848,
     "end_time": "2021-06-28T16:19:08.431115",
     "exception": false,
     "start_time": "2021-06-28T16:19:08.231267",
     "status": "completed"
    },
    "tags": []
   },
   "outputs": [
    {
     "data": {
      "image/png": "[encoded data removed]",
      "text/plain": [
       "<Figure size 360x360 with 1 Axes>"
      ]
     },
     "metadata": {
      "needs_background": "light"
     },
     "output_type": "display_data"
    }
   ],
   "source": [
    "plt.figure(figsize=(5,5))\n",
    "plt.bar(list(titanic_train['Survived'].value_counts().keys()),list(titanic_train['Survived'].value_counts()),color=[\"r\",\"b\"])\n",
    "plt.show()"
   ]
  },
  {
   "cell_type": "code",
   "execution_count": 7,
   "id": "charitable-audit",
   "metadata": {
    "execution": {
     "iopub.execute_input": "2021-06-28T16:19:08.491177Z",
     "iopub.status.busy": "2021-06-28T16:19:08.490286Z",
     "iopub.status.idle": "2021-06-28T16:19:08.494451Z",
     "shell.execute_reply": "2021-06-28T16:19:08.493840Z",
     "shell.execute_reply.started": "2021-06-28T11:29:25.909303Z"
    },
    "papermill": {
     "duration": 0.036838,
     "end_time": "2021-06-28T16:19:08.494591",
     "exception": false,
     "start_time": "2021-06-28T16:19:08.457753",
     "status": "completed"
    },
    "tags": []
   },
   "outputs": [
    {
     "data": {
      "text/plain": [
       "3    491\n",
       "1    216\n",
       "2    184\n",
       "Name: Pclass, dtype: int64"
      ]
     },
     "execution_count": 7,
     "metadata": {},
     "output_type": "execute_result"
    }
   ],
   "source": [
    "titanic_train['Pclass'].value_counts()"
   ]
  },
  {
   "cell_type": "code",
   "execution_count": 8,
   "id": "fabulous-greek",
   "metadata": {
    "execution": {
     "iopub.execute_input": "2021-06-28T16:19:08.580369Z",
     "iopub.status.busy": "2021-06-28T16:19:08.556364Z",
     "iopub.status.idle": "2021-06-28T16:19:08.690956Z",
     "shell.execute_reply": "2021-06-28T16:19:08.690366Z",
     "shell.execute_reply.started": "2021-06-28T11:50:22.589906Z"
    },
    "papermill": {
     "duration": 0.17002,
     "end_time": "2021-06-28T16:19:08.691101",
     "exception": false,
     "start_time": "2021-06-28T16:19:08.521081",
     "status": "completed"
    },
    "tags": []
   },
   "outputs": [
    {
     "data": {
      "image/png": "[encoded data removed]",
      "text/plain": [
       "<Figure size 360x360 with 1 Axes>"
      ]
     },
     "metadata": {
      "needs_background": "light"
     },
     "output_type": "display_data"
    }
   ],
   "source": [
    "plt.figure(figsize=(5,5))\n",
    "plt.bar(list(titanic_train['Pclass'].value_counts().keys()),list(titanic_train['Pclass'].value_counts()),color=[\"Blue\",\"Red\",\"Green\"])\n",
    "plt.show()"
   ]
  },
  {
   "cell_type": "code",
   "execution_count": 9,
   "id": "changed-truth",
   "metadata": {
    "execution": {
     "iopub.execute_input": "2021-06-28T16:19:08.753353Z",
     "iopub.status.busy": "2021-06-28T16:19:08.752662Z",
     "iopub.status.idle": "2021-06-28T16:19:08.756717Z",
     "shell.execute_reply": "2021-06-28T16:19:08.757429Z",
     "shell.execute_reply.started": "2021-06-28T11:35:20.274544Z"
    },
    "papermill": {
     "duration": 0.039155,
     "end_time": "2021-06-28T16:19:08.757627",
     "exception": false,
     "start_time": "2021-06-28T16:19:08.718472",
     "status": "completed"
    },
    "tags": []
   },
   "outputs": [
    {
     "data": {
      "text/plain": [
       "male      577\n",
       "female    314\n",
       "Name: Sex, dtype: int64"
      ]
     },
     "execution_count": 9,
     "metadata": {},
     "output_type": "execute_result"
    }
   ],
   "source": [
    "titanic_train['Sex'].value_counts()"
   ]
  },
  {
   "cell_type": "code",
   "execution_count": 10,
   "id": "tribal-exploration",
   "metadata": {
    "execution": {
     "iopub.execute_input": "2021-06-28T16:19:08.858614Z",
     "iopub.status.busy": "2021-06-28T16:19:08.844937Z",
     "iopub.status.idle": "2021-06-28T16:19:08.925076Z",
     "shell.execute_reply": "2021-06-28T16:19:08.924460Z",
     "shell.execute_reply.started": "2021-06-28T11:50:30.639306Z"
    },
    "papermill": {
     "duration": 0.139667,
     "end_time": "2021-06-28T16:19:08.925230",
     "exception": false,
     "start_time": "2021-06-28T16:19:08.785563",
     "status": "completed"
    },
    "tags": []
   },
   "outputs": [
    {
     "data": {
      "image/png": "[encoded data removed]",
      "text/plain": [
       "<Figure size 360x360 with 1 Axes>"
      ]
     },
     "metadata": {
      "needs_background": "light"
     },
     "output_type": "display_data"
    }
   ],
   "source": [
    "plt.figure(figsize=(5,5))\n",
    "plt.bar(list(titanic_train['Sex'].value_counts().keys()),list(titanic_train['Sex'].value_counts()),color=[\"Blue\",\"Green\"])\n",
    "plt.show()\n"
   ]
  },
  {
   "cell_type": "code",
   "execution_count": 11,
   "id": "severe-volume",
   "metadata": {
    "execution": {
     "iopub.execute_input": "2021-06-28T16:19:08.995164Z",
     "iopub.status.busy": "2021-06-28T16:19:08.994190Z",
     "iopub.status.idle": "2021-06-28T16:19:08.998087Z",
     "shell.execute_reply": "2021-06-28T16:19:08.998595Z",
     "shell.execute_reply.started": "2021-06-28T11:54:15.014808Z"
    },
    "papermill": {
     "duration": 0.042812,
     "end_time": "2021-06-28T16:19:08.998785",
     "exception": false,
     "start_time": "2021-06-28T16:19:08.955973",
     "status": "completed"
    },
    "tags": []
   },
   "outputs": [
    {
     "data": {
      "text/plain": [
       "24.00    30\n",
       "22.00    27\n",
       "18.00    26\n",
       "28.00    25\n",
       "19.00    25\n",
       "         ..\n",
       "55.50     1\n",
       "74.00     1\n",
       "0.92      1\n",
       "70.50     1\n",
       "12.00     1\n",
       "Name: Age, Length: 88, dtype: int64"
      ]
     },
     "execution_count": 11,
     "metadata": {},
     "output_type": "execute_result"
    }
   ],
   "source": [
    "titanic_train['Age'].value_counts()"
   ]
  },
  {
   "cell_type": "code",
   "execution_count": 12,
   "id": "altered-liberia",
   "metadata": {
    "execution": {
     "iopub.execute_input": "2021-06-28T16:19:09.085124Z",
     "iopub.status.busy": "2021-06-28T16:19:09.080376Z",
     "iopub.status.idle": "2021-06-28T16:19:09.376643Z",
     "shell.execute_reply": "2021-06-28T16:19:09.377219Z",
     "shell.execute_reply.started": "2021-06-28T11:55:10.612264Z"
    },
    "papermill": {
     "duration": 0.349006,
     "end_time": "2021-06-28T16:19:09.377400",
     "exception": false,
     "start_time": "2021-06-28T16:19:09.028394",
     "status": "completed"
    },
    "tags": []
   },
   "outputs": [
    {
     "data": {
      "image/png": "[encoded data removed]",
      "text/plain": [
       "<Figure size 720x360 with 1 Axes>"
      ]
     },
     "metadata": {
      "needs_background": "light"
     },
     "output_type": "display_data"
    }
   ],
   "source": [
    "plt.figure(figsize=(10,5))\n",
    "plt.bar(list(titanic_train['Age'].value_counts().keys()),list(titanic_train['Age'].value_counts()),color=[\"Blue\"])\n",
    "plt.show()"
   ]
  },
  {
   "cell_type": "code",
   "execution_count": 13,
   "id": "charged-pendant",
   "metadata": {
    "execution": {
     "iopub.execute_input": "2021-06-28T16:19:09.440163Z",
     "iopub.status.busy": "2021-06-28T16:19:09.439156Z",
     "iopub.status.idle": "2021-06-28T16:19:09.613151Z",
     "shell.execute_reply": "2021-06-28T16:19:09.613793Z",
     "shell.execute_reply.started": "2021-06-28T12:49:55.702794Z"
    },
    "papermill": {
     "duration": 0.207129,
     "end_time": "2021-06-28T16:19:09.613979",
     "exception": false,
     "start_time": "2021-06-28T16:19:09.406850",
     "status": "completed"
    },
    "tags": []
   },
   "outputs": [
    {
     "data": {
      "image/png": "[encoded data removed]",
      "text/plain": [
       "<Figure size 360x504 with 1 Axes>"
      ]
     },
     "metadata": {
      "needs_background": "light"
     },
     "output_type": "display_data"
    }
   ],
   "source": [
    "plt.figure(figsize=(5,7))\n",
    "plt.hist(titanic_train[\"Age\"],color=\"Green\")\n",
    "plt.title(\"Passenger age visualization\")\n",
    "plt.xlabel(\"Age\")\n",
    "plt.show()"
   ]
  },
  {
   "cell_type": "code",
   "execution_count": 14,
   "id": "willing-croatia",
   "metadata": {
    "execution": {
     "iopub.execute_input": "2021-06-28T16:19:09.677930Z",
     "iopub.status.busy": "2021-06-28T16:19:09.676945Z",
     "iopub.status.idle": "2021-06-28T16:19:09.685214Z",
     "shell.execute_reply": "2021-06-28T16:19:09.685663Z",
     "shell.execute_reply.started": "2021-06-28T12:08:04.318719Z"
    },
    "papermill": {
     "duration": 0.042042,
     "end_time": "2021-06-28T16:19:09.685861",
     "exception": false,
     "start_time": "2021-06-28T16:19:09.643819",
     "status": "completed"
    },
    "tags": []
   },
   "outputs": [
    {
     "data": {
      "text/plain": [
       "0      False\n",
       "1      False\n",
       "2      False\n",
       "3      False\n",
       "4      False\n",
       "       ...  \n",
       "886    False\n",
       "887    False\n",
       "888    False\n",
       "889    False\n",
       "890    False\n",
       "Name: Survived, Length: 891, dtype: bool"
      ]
     },
     "execution_count": 14,
     "metadata": {},
     "output_type": "execute_result"
    }
   ],
   "source": [
    "titanic_train['Survived'].isnull() #checking for any null value in Survival column of train_titanic data set"
   ]
  },
  {
   "cell_type": "code",
   "execution_count": 15,
   "id": "vulnerable-glossary",
   "metadata": {
    "execution": {
     "iopub.execute_input": "2021-06-28T16:19:09.752636Z",
     "iopub.status.busy": "2021-06-28T16:19:09.751835Z",
     "iopub.status.idle": "2021-06-28T16:19:09.755222Z",
     "shell.execute_reply": "2021-06-28T16:19:09.755738Z",
     "shell.execute_reply.started": "2021-06-28T12:08:21.992595Z"
    },
    "papermill": {
     "duration": 0.039715,
     "end_time": "2021-06-28T16:19:09.755916",
     "exception": false,
     "start_time": "2021-06-28T16:19:09.716201",
     "status": "completed"
    },
    "tags": []
   },
   "outputs": [
    {
     "data": {
      "text/plain": [
       "0"
      ]
     },
     "execution_count": 15,
     "metadata": {},
     "output_type": "execute_result"
    }
   ],
   "source": [
    "sum(titanic_train['Survived'].isnull())"
   ]
  },
  {
   "cell_type": "code",
   "execution_count": 16,
   "id": "close-postcard",
   "metadata": {
    "execution": {
     "iopub.execute_input": "2021-06-28T16:19:09.820564Z",
     "iopub.status.busy": "2021-06-28T16:19:09.819580Z",
     "iopub.status.idle": "2021-06-28T16:19:09.825292Z",
     "shell.execute_reply": "2021-06-28T16:19:09.825760Z",
     "shell.execute_reply.started": "2021-06-28T12:09:18.803686Z"
    },
    "papermill": {
     "duration": 0.039436,
     "end_time": "2021-06-28T16:19:09.825949",
     "exception": false,
     "start_time": "2021-06-28T16:19:09.786513",
     "status": "completed"
    },
    "tags": []
   },
   "outputs": [
    {
     "data": {
      "text/plain": [
       "177"
      ]
     },
     "execution_count": 16,
     "metadata": {},
     "output_type": "execute_result"
    }
   ],
   "source": [
    "sum(titanic_train['Age'].isnull())"
   ]
  },
  {
   "cell_type": "code",
   "execution_count": 17,
   "id": "veterinary-default",
   "metadata": {
    "execution": {
     "iopub.execute_input": "2021-06-28T16:19:09.892609Z",
     "iopub.status.busy": "2021-06-28T16:19:09.891613Z",
     "iopub.status.idle": "2021-06-28T16:19:10.031303Z",
     "shell.execute_reply": "2021-06-28T16:19:10.030597Z",
     "shell.execute_reply.started": "2021-06-28T12:35:37.189392Z"
    },
    "papermill": {
     "duration": 0.174191,
     "end_time": "2021-06-28T16:19:10.031460",
     "exception": false,
     "start_time": "2021-06-28T16:19:09.857269",
     "status": "completed"
    },
    "tags": []
   },
   "outputs": [],
   "source": [
    "titanic_train=titanic_train.dropna()"
   ]
  },
  {
   "cell_type": "code",
   "execution_count": 18,
   "id": "reserved-update",
   "metadata": {
    "execution": {
     "iopub.execute_input": "2021-06-28T16:19:10.099553Z",
     "iopub.status.busy": "2021-06-28T16:19:10.098555Z",
     "iopub.status.idle": "2021-06-28T16:19:10.102925Z",
     "shell.execute_reply": "2021-06-28T16:19:10.102330Z",
     "shell.execute_reply.started": "2021-06-28T12:35:55.991158Z"
    },
    "papermill": {
     "duration": 0.040829,
     "end_time": "2021-06-28T16:19:10.103065",
     "exception": false,
     "start_time": "2021-06-28T16:19:10.062236",
     "status": "completed"
    },
    "tags": []
   },
   "outputs": [
    {
     "data": {
      "text/plain": [
       "0"
      ]
     },
     "execution_count": 18,
     "metadata": {},
     "output_type": "execute_result"
    }
   ],
   "source": [
    "sum(titanic_train['Age'].isnull())"
   ]
  },
  {
   "cell_type": "code",
   "execution_count": 19,
   "id": "heated-amber",
   "metadata": {
    "execution": {
     "iopub.execute_input": "2021-06-28T16:19:10.172579Z",
     "iopub.status.busy": "2021-06-28T16:19:10.171873Z",
     "iopub.status.idle": "2021-06-28T16:19:10.174254Z",
     "shell.execute_reply": "2021-06-28T16:19:10.174790Z",
     "shell.execute_reply.started": "2021-06-28T12:39:51.509065Z"
    },
    "papermill": {
     "duration": 0.040297,
     "end_time": "2021-06-28T16:19:10.174964",
     "exception": false,
     "start_time": "2021-06-28T16:19:10.134667",
     "status": "completed"
    },
    "tags": []
   },
   "outputs": [],
   "source": [
    "x_train=titanic_train[['Age']]\n",
    "y_train=titanic_train[['Survived']]\n"
   ]
  },
  {
   "cell_type": "code",
   "execution_count": 20,
   "id": "related-injection",
   "metadata": {
    "execution": {
     "iopub.execute_input": "2021-06-28T16:19:10.240536Z",
     "iopub.status.busy": "2021-06-28T16:19:10.239914Z",
     "iopub.status.idle": "2021-06-28T16:19:10.681274Z",
     "shell.execute_reply": "2021-06-28T16:19:10.681857Z",
     "shell.execute_reply.started": "2021-06-28T12:43:11.738274Z"
    },
    "papermill": {
     "duration": 0.475676,
     "end_time": "2021-06-28T16:19:10.682060",
     "exception": false,
     "start_time": "2021-06-28T16:19:10.206384",
     "status": "completed"
    },
    "tags": []
   },
   "outputs": [],
   "source": [
    "from sklearn.tree import DecisionTreeClassifier"
   ]
  },
  {
   "cell_type": "code",
   "execution_count": 21,
   "id": "divine-virginia",
   "metadata": {
    "execution": {
     "iopub.execute_input": "2021-06-28T16:19:10.748589Z",
     "iopub.status.busy": "2021-06-28T16:19:10.747981Z",
     "iopub.status.idle": "2021-06-28T16:19:10.752782Z",
     "shell.execute_reply": "2021-06-28T16:19:10.752154Z",
     "shell.execute_reply.started": "2021-06-28T12:44:37.97046Z"
    },
    "papermill": {
     "duration": 0.039497,
     "end_time": "2021-06-28T16:19:10.752920",
     "exception": false,
     "start_time": "2021-06-28T16:19:10.713423",
     "status": "completed"
    },
    "tags": []
   },
   "outputs": [],
   "source": [
    "dtc = DecisionTreeClassifier()"
   ]
  },
  {
   "cell_type": "code",
   "execution_count": 22,
   "id": "grand-thesis",
   "metadata": {
    "execution": {
     "iopub.execute_input": "2021-06-28T16:19:10.818750Z",
     "iopub.status.busy": "2021-06-28T16:19:10.818109Z",
     "iopub.status.idle": "2021-06-28T16:19:10.832113Z",
     "shell.execute_reply": "2021-06-28T16:19:10.831451Z",
     "shell.execute_reply.started": "2021-06-28T12:45:13.554611Z"
    },
    "papermill": {
     "duration": 0.048103,
     "end_time": "2021-06-28T16:19:10.832254",
     "exception": false,
     "start_time": "2021-06-28T16:19:10.784151",
     "status": "completed"
    },
    "tags": []
   },
   "outputs": [
    {
     "data": {
      "text/plain": [
       "DecisionTreeClassifier()"
      ]
     },
     "execution_count": 22,
     "metadata": {},
     "output_type": "execute_result"
    }
   ],
   "source": [
    "dtc.fit(x_train,y_train)"
   ]
  },
  {
   "cell_type": "markdown",
   "id": "incorporated-candle",
   "metadata": {
    "papermill": {
     "duration": 0.031708,
     "end_time": "2021-06-28T16:19:10.895606",
     "exception": false,
     "start_time": "2021-06-28T16:19:10.863898",
     "status": "completed"
    },
    "tags": []
   },
   "source": [
    "# NOW ITS TIME TO DEAL WITH TEST SET"
   ]
  },
  {
   "cell_type": "code",
   "execution_count": 23,
   "id": "quiet-appliance",
   "metadata": {
    "execution": {
     "iopub.execute_input": "2021-06-28T16:19:10.965953Z",
     "iopub.status.busy": "2021-06-28T16:19:10.965174Z",
     "iopub.status.idle": "2021-06-28T16:19:10.968101Z",
     "shell.execute_reply": "2021-06-28T16:19:10.968581Z",
     "shell.execute_reply.started": "2021-06-28T12:54:38.789404Z"
    },
    "papermill": {
     "duration": 0.040667,
     "end_time": "2021-06-28T16:19:10.968769",
     "exception": false,
     "start_time": "2021-06-28T16:19:10.928102",
     "status": "completed"
    },
    "tags": []
   },
   "outputs": [
    {
     "data": {
      "text/plain": [
       "86"
      ]
     },
     "execution_count": 23,
     "metadata": {},
     "output_type": "execute_result"
    }
   ],
   "source": [
    "sum(titanic_test['Age'].isnull())"
   ]
  },
  {
   "cell_type": "code",
   "execution_count": 24,
   "id": "bearing-affect",
   "metadata": {
    "execution": {
     "iopub.execute_input": "2021-06-28T16:19:11.035910Z",
     "iopub.status.busy": "2021-06-28T16:19:11.035206Z",
     "iopub.status.idle": "2021-06-28T16:19:11.041802Z",
     "shell.execute_reply": "2021-06-28T16:19:11.042341Z",
     "shell.execute_reply.started": "2021-06-28T12:52:23.946172Z"
    },
    "papermill": {
     "duration": 0.041774,
     "end_time": "2021-06-28T16:19:11.042524",
     "exception": false,
     "start_time": "2021-06-28T16:19:11.000750",
     "status": "completed"
    },
    "tags": []
   },
   "outputs": [],
   "source": [
    "titanic_test=titanic_test.dropna()"
   ]
  },
  {
   "cell_type": "code",
   "execution_count": 25,
   "id": "clear-princess",
   "metadata": {
    "execution": {
     "iopub.execute_input": "2021-06-28T16:19:11.110265Z",
     "iopub.status.busy": "2021-06-28T16:19:11.109552Z",
     "iopub.status.idle": "2021-06-28T16:19:11.114983Z",
     "shell.execute_reply": "2021-06-28T16:19:11.115475Z",
     "shell.execute_reply.started": "2021-06-28T12:52:29.51151Z"
    },
    "papermill": {
     "duration": 0.040531,
     "end_time": "2021-06-28T16:19:11.115653",
     "exception": false,
     "start_time": "2021-06-28T16:19:11.075122",
     "status": "completed"
    },
    "tags": []
   },
   "outputs": [
    {
     "data": {
      "text/plain": [
       "0"
      ]
     },
     "execution_count": 25,
     "metadata": {},
     "output_type": "execute_result"
    }
   ],
   "source": [
    "sum(titanic_test['Age'].isnull())"
   ]
  },
  {
   "cell_type": "code",
   "execution_count": 26,
   "id": "unnecessary-testament",
   "metadata": {
    "execution": {
     "iopub.execute_input": "2021-06-28T16:19:11.184471Z",
     "iopub.status.busy": "2021-06-28T16:19:11.183478Z",
     "iopub.status.idle": "2021-06-28T16:19:11.189604Z",
     "shell.execute_reply": "2021-06-28T16:19:11.189074Z",
     "shell.execute_reply.started": "2021-06-28T12:56:35.618727Z"
    },
    "papermill": {
     "duration": 0.041367,
     "end_time": "2021-06-28T16:19:11.189781",
     "exception": false,
     "start_time": "2021-06-28T16:19:11.148414",
     "status": "completed"
    },
    "tags": []
   },
   "outputs": [],
   "source": [
    "x_test=titanic_test[['Age']]"
   ]
  },
  {
   "cell_type": "code",
   "execution_count": 27,
   "id": "productive-cookie",
   "metadata": {
    "execution": {
     "iopub.execute_input": "2021-06-28T16:19:11.261038Z",
     "iopub.status.busy": "2021-06-28T16:19:11.260358Z",
     "iopub.status.idle": "2021-06-28T16:19:11.263408Z",
     "shell.execute_reply": "2021-06-28T16:19:11.262911Z",
     "shell.execute_reply.started": "2021-06-28T12:58:14.01353Z"
    },
    "papermill": {
     "duration": 0.041578,
     "end_time": "2021-06-28T16:19:11.263551",
     "exception": false,
     "start_time": "2021-06-28T16:19:11.221973",
     "status": "completed"
    },
    "tags": []
   },
   "outputs": [],
   "source": [
    "y_predct=dtc.predict(x_test)"
   ]
  },
  {
   "cell_type": "code",
   "execution_count": 28,
   "id": "wired-poison",
   "metadata": {
    "execution": {
     "iopub.execute_input": "2021-06-28T16:19:11.335970Z",
     "iopub.status.busy": "2021-06-28T16:19:11.335075Z",
     "iopub.status.idle": "2021-06-28T16:19:11.338628Z",
     "shell.execute_reply": "2021-06-28T16:19:11.339156Z",
     "shell.execute_reply.started": "2021-06-28T13:03:25.526874Z"
    },
    "papermill": {
     "duration": 0.043274,
     "end_time": "2021-06-28T16:19:11.339327",
     "exception": false,
     "start_time": "2021-06-28T16:19:11.296053",
     "status": "completed"
    },
    "tags": []
   },
   "outputs": [
    {
     "data": {
      "text/plain": [
       "array([1, 0, 1, 1, 1, 1, 0, 0, 1, 1, 1, 0, 1, 1, 1, 1, 1, 1, 1, 0, 0, 1,\n",
       "       1, 1, 1, 1, 1, 1, 1, 1, 1, 0, 1, 0, 1, 1, 0, 1, 0, 0, 1, 1, 1, 0,\n",
       "       1, 1, 0, 1, 1, 0, 1, 0, 1, 1, 0, 1, 1, 1, 0, 1, 0, 0, 0, 0, 1, 1,\n",
       "       1, 1, 1, 0, 0, 1, 0, 1, 1, 0, 0, 1, 1, 1, 1, 1, 1, 0, 0, 0, 1])"
      ]
     },
     "execution_count": 28,
     "metadata": {},
     "output_type": "execute_result"
    }
   ],
   "source": [
    "y_predct"
   ]
  },
  {
   "cell_type": "code",
   "execution_count": null,
   "id": "destroyed-accessory",
   "metadata": {
    "papermill": {
     "duration": 0.031903,
     "end_time": "2021-06-28T16:19:11.403621",
     "exception": false,
     "start_time": "2021-06-28T16:19:11.371718",
     "status": "completed"
    },
    "tags": []
   },
   "outputs": [],
   "source": []
  }
 ],
 "metadata": {
  "kernelspec": {
   "display_name": "Python 3",
   "language": "python",
   "name": "python3"
  },
  "language_info": {
   "codemirror_mode": {
    "name": "ipython",
    "version": 3
   },
   "file_extension": ".py",
   "mimetype": "text/x-python",
   "name": "python",
   "nbconvert_exporter": "python",
   "pygments_lexer": "ipython3",
   "version": "3.7.10"
  },
  "papermill": {
   "default_parameters": {},
   "duration": 13.634066,
   "end_time": "2021-06-28T16:19:12.147056",
   "environment_variables": {},
   "exception": null,
   "input_path": "__notebook__.ipynb",
   "output_path": "__notebook__.ipynb",
   "parameters": {},
   "start_time": "2021-06-28T16:18:58.512990",
   "version": "2.3.3"
  }
 },
 "nbformat": 4,
 "nbformat_minor": 5
}
